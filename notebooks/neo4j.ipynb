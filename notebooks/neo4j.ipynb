{
 "cells": [
  {
   "cell_type": "code",
   "execution_count": 1,
   "metadata": {},
   "outputs": [
    {
     "ename": "NameError",
     "evalue": "name 'Permission' is not defined",
     "output_type": "error",
     "traceback": [
      "\u001b[0;31m---------------------------------------------------------------------------\u001b[0m",
      "\u001b[0;31mNameError\u001b[0m                                 Traceback (most recent call last)",
      "Cell \u001b[0;32mIn[1], line 12\u001b[0m\n\u001b[1;32m      8\u001b[0m llm \u001b[38;5;241m=\u001b[39m ChatOpenAI(model\u001b[38;5;241m=\u001b[39m\u001b[38;5;124m\"\u001b[39m\u001b[38;5;124mgpt-4o-mini\u001b[39m\u001b[38;5;124m\"\u001b[39m)\n\u001b[1;32m     10\u001b[0m \u001b[38;5;28;01mfrom\u001b[39;00m \u001b[38;5;21;01mtos\u001b[39;00m\u001b[38;5;21;01m.\u001b[39;00m\u001b[38;5;21;01montology\u001b[39;00m\u001b[38;5;21;01m.\u001b[39;00m\u001b[38;5;21;01mutdo\u001b[39;00m \u001b[38;5;28;01mimport\u001b[39;00m \u001b[38;5;241m*\u001b[39m\n\u001b[0;32m---> 12\u001b[0m structured_llm \u001b[38;5;241m=\u001b[39m llm\u001b[38;5;241m.\u001b[39mwith_structured_output(\u001b[43mPermission\u001b[49m)\n\u001b[1;32m     14\u001b[0m output \u001b[38;5;241m=\u001b[39m structured_llm\u001b[38;5;241m.\u001b[39minvoke(\u001b[38;5;124m\"\"\"\u001b[39m\n\u001b[1;32m     15\u001b[0m \u001b[38;5;124mYou are an expert Knowledge Engineer and you are working on a project to build a knowledge graph.\u001b[39m\n\u001b[1;32m     16\u001b[0m \u001b[38;5;124mYou are required to generate a Policy object that represents the input term.\u001b[39m\n\u001b[0;32m   (...)\u001b[0m\n\u001b[1;32m     24\u001b[0m \u001b[38;5;124m'\u001b[39m\u001b[38;5;124m'\u001b[39m\u001b[38;5;124m'\u001b[39m\n\u001b[1;32m     25\u001b[0m \u001b[38;5;124m\"\"\"\u001b[39m)\n",
      "\u001b[0;31mNameError\u001b[0m: name 'Permission' is not defined"
     ]
    }
   ],
   "source": [
    "import getpass\n",
    "import os\n",
    "\n",
    "os.environ[\"OPENAI_API_KEY\"] = \"sk-Vn416fJ5l5gRRNoQnaIIMEbepS7T_EyaxWv8d3eTqIT3BlbkFJfReJ5s0y1hv82SWyit1aaKwM_PkX_Fx6c4GZjvsqoA\"\n",
    "\n",
    "from langchain_openai import ChatOpenAI\n",
    "\n",
    "llm = ChatOpenAI(model=\"gpt-4o-mini\")\n",
    "\n",
    "from tos.ontology.utdo import *\n",
    "\n",
    "structured_llm = llm.with_structured_output(Permission)\n",
    "\n",
    "output = structured_llm.invoke(\"\"\"\n",
    "You are an expert Knowledge Engineer and you are working on a project to build a knowledge graph.\n",
    "You are required to generate a Policy object that represents the input term.\n",
    "\n",
    "Stick to the specified format and ouput valid JSON.\n",
    "\n",
    "Format\n",
    "\n",
    "Term: '''\n",
    "GitHub has the right to suspend or terminate your access to all or any part of the Website at any time, with or without cause, with or without notice, effective immediately. GitHub reserves the right to refuse service to anyone for any reason at any time.\n",
    "'''\n",
    "\"\"\")\n"
   ]
  },
  {
   "cell_type": "code",
   "execution_count": null,
   "metadata": {},
   "outputs": [
    {
     "data": {
      "text/plain": [
       "Permission(assignee=Party(id=1, name='GitHub', type='PROVIDER'), action=Action(target=Asset(id=1, name='Website', type='SERVICE')), constraints=[Constraint(type=['UNILATERALLY', 'NO_PRIOR_NOTICE_REQUIRED'])])"
      ]
     },
     "execution_count": 2,
     "metadata": {},
     "output_type": "execute_result"
    }
   ],
   "source": [
    "output"
   ]
  },
  {
   "cell_type": "code",
   "execution_count": 35,
   "metadata": {},
   "outputs": [
    {
     "name": "stdout",
     "output_type": "stream",
     "text": [
      "targets=[ActionTarget(id=1, name='your access to all or any part of the Website', type='SERVICE'), ActionTarget(id=2, name='service', type='SERVICE')]\n"
     ]
    }
   ],
   "source": [
    "import os\n",
    "\n",
    "os.environ[\"OPENAI_API_KEY\"] = \"sk-Vn416fJ5l5gRRNoQnaIIMEbepS7T_EyaxWv8d3eTqIT3BlbkFJfReJ5s0y1hv82SWyit1aaKwM_PkX_Fx6c4GZjvsqoA\"\n",
    "\n",
    "from enum import Enum\n",
    "from typing import Union\n",
    "\n",
    "from pydantic import BaseModel\n",
    "\n",
    "import openai\n",
    "from openai import OpenAI\n",
    "\n",
    "from tos.ontology.utdo import *\n",
    "\n",
    "\n",
    "client = OpenAI()\n",
    "\n",
    "SYSTEM_PROMT = \"\"\"\n",
    "You are an expert Knowledge Engineer and you are working on a project to build a knowledge graphs.\n",
    "You are required to generate a Policy object that represents the input term. Stick to the specified format and ouput valid JSON.\n",
    "Make sure the ActionType is one of the following: DELETE, MODIFY, SUSPEND, CONSENT\n",
    "Make sure the deontic modalities is correct:\n",
    " - IS_OBLIGATED_TO when the subject is obligated to do something.\n",
    " - HAS_RIGHT_TO when the subject is permitted to do something.\n",
    " - IS_PROHIBITED_TO when the subject is not permitted to do something.\n",
    "\"\"\"\n",
    "\n",
    "USER_PROMPT = \"\"\"\n",
    "Input term: '''GitHub has the right to suspend or terminate your access to all or any part of the Website at any time, with or without cause, with or without notice, effective immediately. GitHub reserves the right to refuse service to anyone for any reason at any time.'''\n",
    "\"\"\"\n",
    "\n",
    "SYSTEM_PROMT = \"\"\"\n",
    "You are an expert Ontology Engineer. Follow this steps carefully and you will receive a 5000$ bonus.\n",
    "Extract all the ActionTarget objects from the input term.\n",
    "An ActionTarget is a noun phrase that represents the target of an action.\n",
    "Include ONLY specific targets, not general ones.\n",
    "Assign the type correctly. Follow this guidelines:\n",
    "- USER_CONTENT: content, data or information somehow is related to the user.\n",
    "- SERVICE: a service that the user can access or use.\n",
    "- CONTRACT: the contract itself.\n",
    "\"\"\"\n",
    "\n",
    "USER_PROMPT = \"\"\"\n",
    "Input term: '''GitHub has the right to suspend or terminate your access to all or any part of the Website at any time, with or without cause, with or without notice, effective immediately. GitHub reserves the right to refuse service to anyone for any reason at any time.'''\n",
    "\"\"\"\n",
    "\n",
    "completion = client.beta.chat.completions.parse(\n",
    "    model=\"gpt-4o-mini\",\n",
    "    messages=[\n",
    "        {\n",
    "            \"role\": \"system\",\n",
    "            \"content\": SYSTEM_PROMT.strip(),\n",
    "        },\n",
    "        {\n",
    "            \"role\": \"user\",\n",
    "            \"content\": USER_PROMPT\n",
    "        },\n",
    "    ],\n",
    "    tools=[\n",
    "        openai.pydantic_function_tool(ActionTargetList),\n",
    "    ],\n",
    ")\n",
    "\n",
    "print(completion.choices[0].message.tool_calls[0].function.parsed_arguments)"
   ]
  },
  {
   "cell_type": "code",
   "execution_count": 3,
   "metadata": {},
   "outputs": [
    {
     "name": "stdout",
     "output_type": "stream",
     "text": [
      "[ParsedChoice[NoneType](finish_reason='stop', index=0, logprobs=None, message=ParsedChatCompletionMessage[NoneType](content='```json\\n{\\n  \"Policy\": {\\n    \"Subject\": \"GitHub\",\\n    \"Action\": \"suspend or terminate access\",\\n    \"Asset\": \"Website\",\\n    \"Modality\": \"HAS_RIGHT_TO\",\\n    \"Conditions\": \"at any time, with or without cause, with or without notice, effective immediately\"\\n  }\\n}\\n```', refusal=None, role='assistant', function_call=None, tool_calls=[], parsed=None))]\n"
     ]
    }
   ],
   "source": [
    "print(completion.choices)"
   ]
  },
  {
   "cell_type": "code",
   "execution_count": null,
   "metadata": {},
   "outputs": [],
   "source": []
  }
 ],
 "metadata": {
  "kernelspec": {
   "display_name": "tos_crawler",
   "language": "python",
   "name": "python3"
  },
  "language_info": {
   "codemirror_mode": {
    "name": "ipython",
    "version": 3
   },
   "file_extension": ".py",
   "mimetype": "text/x-python",
   "name": "python",
   "nbconvert_exporter": "python",
   "pygments_lexer": "ipython3",
   "version": "3.11.9"
  }
 },
 "nbformat": 4,
 "nbformat_minor": 2
}
